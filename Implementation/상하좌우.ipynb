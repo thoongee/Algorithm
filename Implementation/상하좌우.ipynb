{
 "cells": [
  {
   "cell_type": "code",
   "execution_count": 5,
   "metadata": {},
   "outputs": [
    {
     "name": "stdout",
     "output_type": "stream",
     "text": [
      "R\n",
      "tmp:  [1, 2]\n",
      "i:  0\n",
      "loc:  [1, 2]\n",
      "R\n",
      "tmp:  [1, 3]\n",
      "i:  1\n",
      "loc:  [1, 3]\n",
      "R\n",
      "tmp:  [1, 4]\n",
      "i:  2\n",
      "loc:  [1, 4]\n",
      "U\n",
      "tmp:  [0, 4]\n",
      "i:  3\n",
      "loc:  [1, 4]\n",
      "D\n",
      "tmp:  [2, 4]\n",
      "i:  4\n",
      "loc:  [2, 4]\n",
      "D\n",
      "tmp:  [3, 4]\n",
      "i:  5\n",
      "loc:  [3, 4]\n"
     ]
    }
   ],
   "source": [
    "\n",
    "## 처음 풀이\n",
    "# if문 문법을 잘못씀 (if tmp[0] or tmp[1] == 0: --> if tmp[0]==0 or tmp[1]==0)\n",
    "# if 조건에, n을 넘어가는 경우를 안씀 (tmp[0]> n or tmp[1]> n 추가)\n",
    "# move type에 따라 각각 이동을 어떻게하는지, if문 조건을 써주다보니 코드가 길어짐 -> 예시 코드 참고하여 move type을 선언해두고 하면 좋을듯.\n",
    "n = 5\n",
    "move = ['R','R','R','U','D','D']\n",
    "\n",
    "loc = [1,1]\n",
    "\n",
    "for i in range(len(move)):\n",
    "    if move[i]=='L':\n",
    "        print('L')\n",
    "        tmp = [loc[0],loc[1]-1]\n",
    "        print('tmp: ',tmp)\n",
    "        if tmp[0] == 0 or tmp[1] == 0:\n",
    "            loc = loc\n",
    "        else: loc = tmp\n",
    "        \n",
    "    elif move[i]=='R':\n",
    "        print('R')\n",
    "        tmp = [loc[0],loc[1]+1]\n",
    "        print('tmp: ',tmp)\n",
    "        if tmp[0] == 0 or tmp[1] == 0:\n",
    "            loc = loc\n",
    "        else: loc = tmp\n",
    "\n",
    "    elif move[i]=='U':\n",
    "        print('U')\n",
    "        tmp = [loc[0]-1,loc[1]]\n",
    "        print('tmp: ',tmp)\n",
    "        if tmp[0] == 0 or tmp[1] == 0:\n",
    "            loc = loc\n",
    "        else: loc = tmp\n",
    "    else:\n",
    "        print('D')\n",
    "        tmp = [loc[0]+1,loc[1]]\n",
    "        print('tmp: ',tmp)\n",
    "        if tmp[0] == 0 or tmp[1] == 0:\n",
    "            loc = loc\n",
    "        else: loc = tmp\n",
    "    print('i: ',i)\n",
    "    print('loc: ',loc)\n"
   ]
  },
  {
   "cell_type": "code",
   "execution_count": null,
   "metadata": {},
   "outputs": [],
   "source": [
    "## 일련의 명령에 따라서 개체를 차례대로 이동시킴 = 시뮬레이션 유형 문제\n",
    "\n",
    "n = int(input())\n",
    "x,y = 1,1\n",
    "plans = input().split()\n",
    "\n",
    "dx = [0,0,-1,1]\n",
    "dy = [-1,1,0,0]\n",
    "move_types = ['L','R','U','D']\n",
    "\n",
    "for plan in plans:\n",
    "    # 이동 후 좌표구하기\n",
    "    for i in range(len(move_types)):\n",
    "        if plan == move_types[i]:\n",
    "            nx = x+dx[i]\n",
    "            ny = y+dy[i]\n",
    "    # 공간을 벗어나는 경우 무시\n",
    "    if nx < 1 or ny < 1 or nx > n or ny>n :\n",
    "        continue\n",
    "    # 이동 수행\n",
    "    x,y = nx,ny\n",
    "\n",
    "print(x,y)"
   ]
  }
 ],
 "metadata": {
  "kernelspec": {
   "display_name": "base",
   "language": "python",
   "name": "python3"
  },
  "language_info": {
   "codemirror_mode": {
    "name": "ipython",
    "version": 3
   },
   "file_extension": ".py",
   "mimetype": "text/x-python",
   "name": "python",
   "nbconvert_exporter": "python",
   "pygments_lexer": "ipython3",
   "version": "3.8.5"
  },
  "orig_nbformat": 4,
  "vscode": {
   "interpreter": {
    "hash": "29d0a410c9e8cc6a4dc05a3c608960c439759e8d85b7d66c5207429e2156b2f7"
   }
  }
 },
 "nbformat": 4,
 "nbformat_minor": 2
}
