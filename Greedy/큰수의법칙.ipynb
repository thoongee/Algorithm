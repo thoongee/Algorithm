{
 "cells": [
  {
   "cell_type": "code",
   "execution_count": null,
   "metadata": {},
   "outputs": [],
   "source": [
    "# 배열의 크기 n, 숫자가 더해지는 횟수 m, 연속해서 더해지는 최대 횟수 k\n",
    "import sys\n",
    "input = sys.stdin.readline\n",
    "\n",
    "n,m,k = map(int,input().split())\n",
    "print(n,m,k)"
   ]
  }
 ],
 "metadata": {
  "language_info": {
   "name": "python"
  },
  "orig_nbformat": 4
 },
 "nbformat": 4,
 "nbformat_minor": 2
}
