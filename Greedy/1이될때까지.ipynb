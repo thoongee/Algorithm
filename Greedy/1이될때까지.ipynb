{
 "cells": [
  {
   "cell_type": "code",
   "execution_count": 1,
   "metadata": {},
   "outputs": [],
   "source": [
    "import sys\n",
    "input = sys.stdin.readline\n",
    "\n",
    "n,k= map(int, input().split())\n",
    "print(n,k)\n"
   ]
  },
  {
   "cell_type": "code",
   "execution_count": 5,
   "metadata": {},
   "outputs": [
    {
     "name": "stdout",
     "output_type": "stream",
     "text": [
      "5\n",
      "1\n",
      "cnt: 2\n"
     ]
    }
   ],
   "source": [
    "n,k = 25,5\n",
    "cnt = 0\n",
    "\n",
    "while(n!=1):\n",
    "    if n%k == 0:\n",
    "        n = n//k\n",
    "        cnt += 1\n",
    "    else:\n",
    "        n -= 1\n",
    "        cnt += 1\n",
    "\n",
    "print('cnt:',cnt)\n",
    "\n",
    "## 이 방식은 단순한 방식 (일일이 1을 빼줌)"
   ]
  },
  {
   "cell_type": "code",
   "execution_count": null,
   "metadata": {},
   "outputs": [],
   "source": [
    "## N이 k의 배수가 되도록 효율적으로 한번에 빼는 방식\n",
    "## ex. n= 17, k=3 일때, 이전에는 17 -> 16 -> 15 총 1을 2번 뺐는데\n",
    "## 이 방식은 17 - ((17//3)*3) = 17 - 15 = 2 이렇게 한번에 2를 계산함\n",
    "n, k = map(int, input().split())\n",
    "result = 0\n",
    "while True:\n",
    "  target = (n // k) * k\n",
    "  print('target: ', target)\n",
    "  result += n - target\n",
    "  print('result: ', result)\n",
    "  n = target\n",
    "  print('n: ', n)\n",
    "\n",
    "  if n < k:\n",
    "    break\n",
    "  \n",
    "  n //= k\n",
    "  print('n2: ', n)\n",
    "  result += 1\n",
    "  print('result2:', result)\n",
    "\n",
    "result += (n - 1)\n",
    "print('result: ', result)"
   ]
  }
 ],
 "metadata": {
  "kernelspec": {
   "display_name": "base",
   "language": "python",
   "name": "python3"
  },
  "language_info": {
   "codemirror_mode": {
    "name": "ipython",
    "version": 3
   },
   "file_extension": ".py",
   "mimetype": "text/x-python",
   "name": "python",
   "nbconvert_exporter": "python",
   "pygments_lexer": "ipython3",
   "version": "3.8.5"
  },
  "orig_nbformat": 4,
  "vscode": {
   "interpreter": {
    "hash": "29d0a410c9e8cc6a4dc05a3c608960c439759e8d85b7d66c5207429e2156b2f7"
   }
  }
 },
 "nbformat": 4,
 "nbformat_minor": 2
}
